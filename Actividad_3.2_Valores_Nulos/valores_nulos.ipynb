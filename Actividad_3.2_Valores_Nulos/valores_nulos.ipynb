{
 "cells": [
  {
   "cell_type": "code",
   "execution_count": 79,
   "metadata": {},
   "outputs": [],
   "source": [
    "import pandas as pd\n",
    "import numpy as np\n",
    "import matplotlib.pyplot as plt\n",
    "import seaborn as sns"
   ]
  },
  {
   "cell_type": "code",
   "execution_count": 80,
   "metadata": {},
   "outputs": [
    {
     "data": {
      "text/html": [
       "<div>\n",
       "<style scoped>\n",
       "    .dataframe tbody tr th:only-of-type {\n",
       "        vertical-align: middle;\n",
       "    }\n",
       "\n",
       "    .dataframe tbody tr th {\n",
       "        vertical-align: top;\n",
       "    }\n",
       "\n",
       "    .dataframe thead th {\n",
       "        text-align: right;\n",
       "    }\n",
       "</style>\n",
       "<table border=\"1\" class=\"dataframe\">\n",
       "  <thead>\n",
       "    <tr style=\"text-align: right;\">\n",
       "      <th></th>\n",
       "      <th>last_scraped</th>\n",
       "      <th>source</th>\n",
       "      <th>name</th>\n",
       "      <th>description</th>\n",
       "      <th>neighborhood_overview</th>\n",
       "      <th>host_name</th>\n",
       "      <th>host_since</th>\n",
       "      <th>host_location</th>\n",
       "      <th>host_about</th>\n",
       "      <th>host_response_time</th>\n",
       "      <th>...</th>\n",
       "      <th>review_scores_rating</th>\n",
       "      <th>review_scores_accuracy</th>\n",
       "      <th>review_scores_cleanliness</th>\n",
       "      <th>review_scores_checkin</th>\n",
       "      <th>review_scores_communication</th>\n",
       "      <th>review_scores_location</th>\n",
       "      <th>review_scores_value</th>\n",
       "      <th>instant_bookable</th>\n",
       "      <th>calculated_host_listings_count</th>\n",
       "      <th>reviews_per_month</th>\n",
       "    </tr>\n",
       "  </thead>\n",
       "  <tbody>\n",
       "    <tr>\n",
       "      <th>0</th>\n",
       "      <td>09/11/2024</td>\n",
       "      <td>city scrape</td>\n",
       "      <td>Unique neighborhood cottage</td>\n",
       "      <td>Not for everyone, but loved by many'&lt;br /&gt;' Th...</td>\n",
       "      <td>It is close to everything. Older neighborhood ...</td>\n",
       "      <td>Stacie</td>\n",
       "      <td>29/05/2012</td>\n",
       "      <td>Bozeman, MT</td>\n",
       "      <td>I love my home and love sharing it.</td>\n",
       "      <td>within a few hours</td>\n",
       "      <td>...</td>\n",
       "      <td>4.95</td>\n",
       "      <td>4.95</td>\n",
       "      <td>4.97</td>\n",
       "      <td>4.99</td>\n",
       "      <td>4.98</td>\n",
       "      <td>4.98</td>\n",
       "      <td>4.89</td>\n",
       "      <td>f</td>\n",
       "      <td>1</td>\n",
       "      <td>1.72</td>\n",
       "    </tr>\n",
       "    <tr>\n",
       "      <th>1</th>\n",
       "      <td>09/11/2024</td>\n",
       "      <td>city scrape</td>\n",
       "      <td>Downtown Bozeman Vacation Rental</td>\n",
       "      <td>Just four easy blocks from historic downtown B...</td>\n",
       "      <td>NaN</td>\n",
       "      <td>Brian</td>\n",
       "      <td>08/11/2013</td>\n",
       "      <td>Bozeman, MT</td>\n",
       "      <td>I'm a born and raised Montanan. I've done some...</td>\n",
       "      <td>within an hour</td>\n",
       "      <td>...</td>\n",
       "      <td>4.97</td>\n",
       "      <td>4.98</td>\n",
       "      <td>4.95</td>\n",
       "      <td>4.97</td>\n",
       "      <td>4.99</td>\n",
       "      <td>4.93</td>\n",
       "      <td>4.94</td>\n",
       "      <td>f</td>\n",
       "      <td>2</td>\n",
       "      <td>3.92</td>\n",
       "    </tr>\n",
       "    <tr>\n",
       "      <th>2</th>\n",
       "      <td>09/11/2024</td>\n",
       "      <td>city scrape</td>\n",
       "      <td>Northside Hideaway</td>\n",
       "      <td>Free, fast Wi-Fi for remote learning/working n...</td>\n",
       "      <td>This is a great neighborhood - it's a nice, sh...</td>\n",
       "      <td>Paul</td>\n",
       "      <td>17/08/2013</td>\n",
       "      <td>Bozeman, MT</td>\n",
       "      <td>I started Bozeman Cottage Vacation Rentals in ...</td>\n",
       "      <td>within an hour</td>\n",
       "      <td>...</td>\n",
       "      <td>4.76</td>\n",
       "      <td>4.89</td>\n",
       "      <td>4.82</td>\n",
       "      <td>4.95</td>\n",
       "      <td>4.97</td>\n",
       "      <td>4.97</td>\n",
       "      <td>4.70</td>\n",
       "      <td>f</td>\n",
       "      <td>21</td>\n",
       "      <td>0.30</td>\n",
       "    </tr>\n",
       "    <tr>\n",
       "      <th>3</th>\n",
       "      <td>09/11/2024</td>\n",
       "      <td>city scrape</td>\n",
       "      <td>2 Blocks 2 Main</td>\n",
       "      <td>This space is designed for 1-2 people that wan...</td>\n",
       "      <td>I love that it is 2 blocks from the heart of d...</td>\n",
       "      <td>Irene</td>\n",
       "      <td>31/07/2013</td>\n",
       "      <td>Bozeman, MT</td>\n",
       "      <td>I have lived in or near Bozeman all of my life...</td>\n",
       "      <td>within an hour</td>\n",
       "      <td>...</td>\n",
       "      <td>4.96</td>\n",
       "      <td>5.00</td>\n",
       "      <td>5.00</td>\n",
       "      <td>5.00</td>\n",
       "      <td>4.98</td>\n",
       "      <td>5.00</td>\n",
       "      <td>4.73</td>\n",
       "      <td>t</td>\n",
       "      <td>2</td>\n",
       "      <td>0.47</td>\n",
       "    </tr>\n",
       "    <tr>\n",
       "      <th>4</th>\n",
       "      <td>09/11/2024</td>\n",
       "      <td>city scrape</td>\n",
       "      <td>Modern Home Near Campus &amp; Downtown</td>\n",
       "      <td>Great house on the south side of town, near ca...</td>\n",
       "      <td>Great neighborhood, close to parks, campus, gr...</td>\n",
       "      <td>Kris And Alex</td>\n",
       "      <td>20/08/2013</td>\n",
       "      <td>Livingston, MT</td>\n",
       "      <td>We have been traveling with Airbnb for the pas...</td>\n",
       "      <td>within an hour</td>\n",
       "      <td>...</td>\n",
       "      <td>4.77</td>\n",
       "      <td>4.87</td>\n",
       "      <td>4.75</td>\n",
       "      <td>4.91</td>\n",
       "      <td>4.83</td>\n",
       "      <td>4.89</td>\n",
       "      <td>4.73</td>\n",
       "      <td>f</td>\n",
       "      <td>1</td>\n",
       "      <td>2.46</td>\n",
       "    </tr>\n",
       "  </tbody>\n",
       "</table>\n",
       "<p>5 rows × 50 columns</p>\n",
       "</div>"
      ],
      "text/plain": [
       "      last_scraped       source                                name  \\\n",
       "0       09/11/2024  city scrape         Unique neighborhood cottage   \n",
       "1       09/11/2024  city scrape    Downtown Bozeman Vacation Rental   \n",
       "2       09/11/2024  city scrape                  Northside Hideaway   \n",
       "3       09/11/2024  city scrape                     2 Blocks 2 Main   \n",
       "4       09/11/2024  city scrape  Modern Home Near Campus & Downtown   \n",
       "\n",
       "                                         description  \\\n",
       "0  Not for everyone, but loved by many'<br />' Th...   \n",
       "1  Just four easy blocks from historic downtown B...   \n",
       "2  Free, fast Wi-Fi for remote learning/working n...   \n",
       "3  This space is designed for 1-2 people that wan...   \n",
       "4  Great house on the south side of town, near ca...   \n",
       "\n",
       "                               neighborhood_overview      host_name  \\\n",
       "0  It is close to everything. Older neighborhood ...         Stacie   \n",
       "1                                                NaN          Brian   \n",
       "2  This is a great neighborhood - it's a nice, sh...           Paul   \n",
       "3  I love that it is 2 blocks from the heart of d...          Irene   \n",
       "4  Great neighborhood, close to parks, campus, gr...  Kris And Alex   \n",
       "\n",
       "   host_since   host_location  \\\n",
       "0  29/05/2012     Bozeman, MT   \n",
       "1  08/11/2013     Bozeman, MT   \n",
       "2  17/08/2013     Bozeman, MT   \n",
       "3  31/07/2013     Bozeman, MT   \n",
       "4  20/08/2013  Livingston, MT   \n",
       "\n",
       "                                          host_about  host_response_time  ...  \\\n",
       "0               I love my home and love sharing it.   within a few hours  ...   \n",
       "1  I'm a born and raised Montanan. I've done some...      within an hour  ...   \n",
       "2  I started Bozeman Cottage Vacation Rentals in ...      within an hour  ...   \n",
       "3  I have lived in or near Bozeman all of my life...      within an hour  ...   \n",
       "4  We have been traveling with Airbnb for the pas...      within an hour  ...   \n",
       "\n",
       "  review_scores_rating review_scores_accuracy review_scores_cleanliness  \\\n",
       "0                 4.95                   4.95                      4.97   \n",
       "1                 4.97                   4.98                      4.95   \n",
       "2                 4.76                   4.89                      4.82   \n",
       "3                 4.96                   5.00                      5.00   \n",
       "4                 4.77                   4.87                      4.75   \n",
       "\n",
       "   review_scores_checkin  review_scores_communication review_scores_location  \\\n",
       "0                   4.99                         4.98                   4.98   \n",
       "1                   4.97                         4.99                   4.93   \n",
       "2                   4.95                         4.97                   4.97   \n",
       "3                   5.00                         4.98                   5.00   \n",
       "4                   4.91                         4.83                   4.89   \n",
       "\n",
       "  review_scores_value instant_bookable calculated_host_listings_count  \\\n",
       "0                4.89                f                              1   \n",
       "1                4.94                f                              2   \n",
       "2                4.70                f                             21   \n",
       "3                4.73                t                              2   \n",
       "4                4.73                f                              1   \n",
       "\n",
       "  reviews_per_month  \n",
       "0              1.72  \n",
       "1              3.92  \n",
       "2              0.30  \n",
       "3              0.47  \n",
       "4              2.46  \n",
       "\n",
       "[5 rows x 50 columns]"
      ]
     },
     "execution_count": 80,
     "metadata": {},
     "output_type": "execute_result"
    }
   ],
   "source": [
    "\n",
    "# leer el archivo csv\n",
    "data = pd.read_csv(\"Bozeman_United States.csv\")\n",
    "data.head(5)\n"
   ]
  },
  {
   "cell_type": "code",
   "execution_count": 81,
   "metadata": {},
   "outputs": [
    {
     "name": "stdout",
     "output_type": "stream",
     "text": [
      "<class 'pandas.core.frame.DataFrame'>\n",
      "RangeIndex: 567 entries, 0 to 566\n",
      "Data columns (total 50 columns):\n",
      " #   Column                          Non-Null Count  Dtype  \n",
      "---  ------                          --------------  -----  \n",
      " 0       last_scraped                567 non-null    object \n",
      " 1   source                          567 non-null    object \n",
      " 2   name                            567 non-null    object \n",
      " 3   description                     559 non-null    object \n",
      " 4   neighborhood_overview           341 non-null    object \n",
      " 5   host_name                       567 non-null    object \n",
      " 6   host_since                      567 non-null    object \n",
      " 7   host_location                   491 non-null    object \n",
      " 8   host_about                      376 non-null    object \n",
      " 9   host_response_time              520 non-null    object \n",
      " 10  host_response_rate              520 non-null    object \n",
      " 11  host_acceptance_rate            531 non-null    object \n",
      " 12  host_is_superhost               538 non-null    object \n",
      " 13  host_listings_count             567 non-null    int64  \n",
      " 14  host_total_listings_count       567 non-null    int64  \n",
      " 15  host_verifications              567 non-null    object \n",
      " 16  host_has_profile_pic            567 non-null    object \n",
      " 17  host_identity_verified          567 non-null    object \n",
      " 18  neighbourhood_cleansed          567 non-null    object \n",
      " 19  property_type                   567 non-null    object \n",
      " 20  room_type                       567 non-null    object \n",
      " 21  accommodates                    567 non-null    int64  \n",
      " 22  bathrooms                       535 non-null    float64\n",
      " 23  bedrooms                        567 non-null    int64  \n",
      " 24  beds                            535 non-null    float64\n",
      " 25  amenities                       567 non-null    object \n",
      " 26  price                           535 non-null    object \n",
      " 27  minimum_nights                  567 non-null    int64  \n",
      " 28  maximum_nights                  567 non-null    int64  \n",
      " 29  minimum_nights_avg_ntm          567 non-null    float64\n",
      " 30  maximum_nights_avg_ntm          567 non-null    float64\n",
      " 31  has_availability                559 non-null    object \n",
      " 32  availability_30                 567 non-null    int64  \n",
      " 33  availability_60                 567 non-null    int64  \n",
      " 34  availability_90                 567 non-null    int64  \n",
      " 35  availability_365                567 non-null    int64  \n",
      " 36  number_of_reviews_ltm           567 non-null    int64  \n",
      " 37  number_of_reviews_l30d          567 non-null    int64  \n",
      " 38  first_review                    493 non-null    object \n",
      " 39  last_review                     493 non-null    object \n",
      " 40  review_scores_rating            493 non-null    float64\n",
      " 41  review_scores_accuracy          493 non-null    float64\n",
      " 42  review_scores_cleanliness       493 non-null    float64\n",
      " 43  review_scores_checkin           493 non-null    float64\n",
      " 44  review_scores_communication     493 non-null    float64\n",
      " 45  review_scores_location          493 non-null    float64\n",
      " 46  review_scores_value             493 non-null    float64\n",
      " 47  instant_bookable                567 non-null    object \n",
      " 48  calculated_host_listings_count  567 non-null    int64  \n",
      " 49  reviews_per_month               493 non-null    float64\n",
      "dtypes: float64(12), int64(13), object(25)\n",
      "memory usage: 221.6+ KB\n"
     ]
    }
   ],
   "source": [
    "data.info()"
   ]
  },
  {
   "cell_type": "code",
   "execution_count": 82,
   "metadata": {},
   "outputs": [
    {
     "data": {
      "text/plain": [
       "    last_scraped                    0\n",
       "source                              0\n",
       "name                                0\n",
       "description                         8\n",
       "neighborhood_overview             226\n",
       "host_name                           0\n",
       "host_since                          0\n",
       "host_location                      76\n",
       "host_about                        191\n",
       "host_response_time                 47\n",
       "host_response_rate                 47\n",
       "host_acceptance_rate               36\n",
       "host_is_superhost                  29\n",
       "host_listings_count                 0\n",
       "host_total_listings_count           0\n",
       "host_verifications                  0\n",
       "host_has_profile_pic                0\n",
       "host_identity_verified              0\n",
       "neighbourhood_cleansed              0\n",
       "property_type                       0\n",
       "room_type                           0\n",
       "accommodates                        0\n",
       "bathrooms                          32\n",
       "bedrooms                            0\n",
       "beds                               32\n",
       "amenities                           0\n",
       "price                              32\n",
       "minimum_nights                      0\n",
       "maximum_nights                      0\n",
       "minimum_nights_avg_ntm              0\n",
       "maximum_nights_avg_ntm              0\n",
       "has_availability                    8\n",
       "availability_30                     0\n",
       "availability_60                     0\n",
       "availability_90                     0\n",
       "availability_365                    0\n",
       "number_of_reviews_ltm               0\n",
       "number_of_reviews_l30d              0\n",
       "first_review                       74\n",
       "last_review                        74\n",
       "review_scores_rating               74\n",
       "review_scores_accuracy             74\n",
       "review_scores_cleanliness          74\n",
       "review_scores_checkin              74\n",
       "review_scores_communication        74\n",
       "review_scores_location             74\n",
       "review_scores_value                74\n",
       "instant_bookable                    0\n",
       "calculated_host_listings_count      0\n",
       "reviews_per_month                  74\n",
       "dtype: int64"
      ]
     },
     "execution_count": 82,
     "metadata": {},
     "output_type": "execute_result"
    }
   ],
   "source": [
    "valores_nulos=data.isnull().sum()\n",
    "valores_nulos"
   ]
  },
  {
   "cell_type": "code",
   "execution_count": 83,
   "metadata": {},
   "outputs": [],
   "source": [
    "#hacemos una copia de los datos para despues comparar\n",
    "data2=data.copy()"
   ]
  },
  {
   "cell_type": "code",
   "execution_count": 84,
   "metadata": {},
   "outputs": [],
   "source": [
    "#description\n",
    "#rellenamos los valores nulos con una desciption en especifico \n",
    "#similar a las demas descripciones, pero sin dar detalles especificos\n",
    "data2[\"description\"]=data2[\"description\"].fillna(\"We are your best option if you want to visit Bozeman, we offer a safe, clean and affordable haven\")"
   ]
  },
  {
   "cell_type": "code",
   "execution_count": 85,
   "metadata": {},
   "outputs": [],
   "source": [
    "#neighborhood_overview \n",
    "#rellenamos los valores nulos con una descripcion en especifico\n",
    "#similar a los demas valores de neighborhood overview, pero sin dar detalles especificos\n",
    "data2[\"neighborhood_overview\"]=data2[\"neighborhood_overview\"].fillna(\"Excellent neighborhood, close to parks, campus, great restaurants and everything you need for a comfortable stay.\")\n"
   ]
  },
  {
   "cell_type": "code",
   "execution_count": 86,
   "metadata": {},
   "outputs": [],
   "source": [
    "#host_location\n",
    "#rellenamos los valores nulos con un valor en especifico, y ya que se tratan de \n",
    "#propiedades en Bozeman, MT, rellenamos los valores nulos con Bozeman, MT\n",
    "data2[\"host_location\"]=data2[\"host_location\"].fillna(\"Bozeman, MT\")\n"
   ]
  },
  {
   "cell_type": "code",
   "execution_count": 87,
   "metadata": {},
   "outputs": [],
   "source": [
    "#host_about\n",
    "#rellenamos los valores nulos con una descripcion en especifico\n",
    "#similar a los demas valores de host_about, pero sin dar detalles especificos\n",
    "#y solo mencionando que ha sido anfitrion por muchos años\n",
    "data2[\"host_about\"]=data2[\"host_about\"].fillna(\"Hello! I've been an airbnb host and traveler for many years.\")\n"
   ]
  },
  {
   "cell_type": "code",
   "execution_count": 88,
   "metadata": {},
   "outputs": [],
   "source": [
    "#host_response_time\n",
    "#rellenamos los valores nulos con un valor en especifico, y ya que la mayoria de los valores\n",
    "#son \"within a day\", rellenamos los valores nulos con \"within a day\"\n",
    "data2[\"host_response_time\"]=data2[\"host_response_time\"].fillna(\"within a day\")"
   ]
  },
  {
   "cell_type": "code",
   "execution_count": 108,
   "metadata": {},
   "outputs": [],
   "source": [
    "#host_response_rate\n",
    "# en este caso los datos contenían un simbolo % que no nos permitia obtener\n",
    "#el promedio de los datos por lo que primero eliminamos ese simbolo\n",
    "data2['host_response_rate'] = data2['host_response_rate'].astype(str)\n",
    "\n",
    "#convertir a tipo numérico (float)\n",
    "host_response_numeric = data2['host_response_rate'].str.rstrip('%').astype(float)\n",
    "\n",
    "#rellenamos los valores nulos con el promedio que obtuvimos de los datos\n",
    "host_response_numeric = host_response_numeric.fillna(host_response_numeric.mean())\n",
    "\n",
    "# Convertir nuevamente a formato de porcentaje y actualizar la columna original\n",
    "data2['host_response_rate'] = host_response_numeric.apply(lambda x: f\"{x:.0f}%\")\n",
    "\n"
   ]
  },
  {
   "cell_type": "code",
   "execution_count": 109,
   "metadata": {},
   "outputs": [],
   "source": [
    "#host_acceptance_rate\n",
    "# en este caso los datos contenían un simbolo % que no nos permitia obtener\n",
    "#el promedio de los datos por lo que primero eliminamos ese simbolo\n",
    "\n",
    "data2['host_acceptance_rate'] = data2['host_acceptance_rate'].astype(str)\n",
    "\n",
    "#convertir a tipo numérico (float)\n",
    "host_acceptance_numeric = data2['host_acceptance_rate'].str.rstrip('%').astype(float)\n",
    "\n",
    "#rellenamos los valores nulos con el promedio que obtuvimos de los datos\n",
    "host_acceptance_numeric = host_acceptance_numeric.fillna(host_acceptance_numeric.mean())\n",
    "\n",
    "# Convertir nuevamente a formato de porcentaje y actualizar la columna original\n",
    "data2['host_acceptance_rate'] = host_acceptance_numeric.apply(lambda x: f\"{x:.0f}%\")\n"
   ]
  },
  {
   "cell_type": "code",
   "execution_count": 91,
   "metadata": {},
   "outputs": [],
   "source": [
    "#host_is_superhost\n",
    "#rellenamos los valores nulos con un valor en especifico, y ya que para ser super host\n",
    "#se necesita tener una buena calificacion, rellenamos los valores nulos con \"f\"\n",
    "#para evitar que se confunda\n",
    "data2[\"host_is_superhost\"]=data2[\"host_is_superhost\"].fillna(\"f\")"
   ]
  },
  {
   "cell_type": "code",
   "execution_count": 92,
   "metadata": {},
   "outputs": [],
   "source": [
    "#bathrooms\n",
    "#rellenamos los valores nulos con el promedio de los datos\n",
    "#usando mean() para obtener el promedio\n",
    "data2[\"bathrooms\"]=data2[\"bathrooms\"].fillna(round(data[\"bedrooms\"].mean(),1))\n"
   ]
  },
  {
   "cell_type": "code",
   "execution_count": 93,
   "metadata": {},
   "outputs": [],
   "source": [
    "#beds\n",
    "#rellenamos los valores nulos con el promedio de los datos\n",
    "#usando mean() para obtener el promedio, ya que es una alternativa que nos permite\n",
    "#tener una mejor aproximacion de los datos\n",
    "data2[\"beds\"]=data2[\"beds\"].fillna(round(data[\"beds\"].mean(),1))\n"
   ]
  },
  {
   "cell_type": "code",
   "execution_count": 94,
   "metadata": {},
   "outputs": [],
   "source": [
    "#price\n",
    "# en este caso los datos contenían un simbolo $ que no nos permitia obtener\n",
    "#el promedio de los datos por lo que tenemos que hacer diversas operaciones\n",
    "data2['price'] = (\n",
    "    data2['price']\n",
    "    .str.replace('$', '', regex=False)  # Quitar el símbolo $  # Quitar comas\n",
    "    .str.replace(',', '', regex=False)  # Quitar comas\n",
    "    .astype(float)  # Convertir a tipo float\n",
    ")\n",
    "# Rellenar los valores nulos con el promedio calculado\n",
    "data2['price'] = data2['price'].fillna(data2['price'].mean())\n",
    "\n",
    "# Si necesitas convertirlo nuevamente a porcentaje, asegúrate del contexto\n",
    "data2['price'] = data2['price'].apply(lambda x: f\"{x:.0f}%\")"
   ]
  },
  {
   "cell_type": "code",
   "execution_count": 95,
   "metadata": {},
   "outputs": [],
   "source": [
    "#has_availability\n",
    "#rellenamos los valores nulos con un valor en especifico, y ya que no sabemos \n",
    "#si la propiedad esta disponible o no, rellenamos los valores nulos con \"f\"\n",
    "#para evitar confusiones\n",
    "data2[\"has_availability\"]=data2[\"has_availability\"].fillna(\"f\")\n",
    "\n"
   ]
  },
  {
   "cell_type": "code",
   "execution_count": 96,
   "metadata": {},
   "outputs": [],
   "source": [
    "#first_review \n",
    "#rellenamos los valores nulos con una fecha en especifico\n",
    "#similar a los demas valores de first_review, pero sin dar detalles especificos\n",
    "data2[\"first_review\"]=data2[\"first_review\"].fillna(\"2018-01-01\")"
   ]
  },
  {
   "cell_type": "code",
   "execution_count": 97,
   "metadata": {},
   "outputs": [],
   "source": [
    "#last_review\n",
    "#rellenamos los valores nulos con una fecha en especifico   \n",
    "#similar a los demas valores de last_review, pero sin dar detalles especificos\n",
    "data2[\"last_review\"]=data2[\"last_review\"].fillna(\"2024-10-01\")"
   ]
  },
  {
   "cell_type": "markdown",
   "metadata": {},
   "source": [
    "En las siguientes instrucciones decidi usar mean para rellenar los valores nulos con el promedio de los datos, ya que como se trataba de \"rating \" o bien calificaciones, es mejor obtener una aproximación de los datos, usando el promedio."
   ]
  },
  {
   "cell_type": "code",
   "execution_count": 98,
   "metadata": {},
   "outputs": [],
   "source": [
    "#review_scores_rating \n",
    "#rellenamos los valores nulos con el promedio de los datos\n",
    "#usando mean() para obtener el promedio\n",
    "data2[\"review_scores_rating\"]=data2[\"review_scores_rating\"].fillna(round(data[\"review_scores_rating\"].mean(),1))\n"
   ]
  },
  {
   "cell_type": "code",
   "execution_count": 99,
   "metadata": {},
   "outputs": [],
   "source": [
    "#review_scores_accuracy\n",
    "#rellenamos los valores nulos con el promedio de los datos\n",
    "#usando mean() para obtener el promedio\n",
    "data2[\"review_scores_accuracy\"]=data2[\"review_scores_accuracy\"].fillna(round(data[\"review_scores_accuracy\"].mean(),1))\n"
   ]
  },
  {
   "cell_type": "code",
   "execution_count": 100,
   "metadata": {},
   "outputs": [],
   "source": [
    "#review_scores_cleanliness\n",
    "#rellenamos los valores nulos con el promedio de los datos\n",
    "#usando mean() para obtener el promedio\n",
    "data2[\"review_scores_cleanliness\"]=data2[\"review_scores_cleanliness\"].fillna(round(data[\"review_scores_cleanliness\"].mean(),1))\n"
   ]
  },
  {
   "cell_type": "code",
   "execution_count": 101,
   "metadata": {},
   "outputs": [],
   "source": [
    "#review_scores_checkin\n",
    "#rellenamos los valores nulos con el promedio de los datos\n",
    "#usando mean() para obtener el promedio\n",
    "data2[\"review_scores_checkin\"]=data2[\"review_scores_checkin\"].fillna(round(data[\"review_scores_checkin\"].mean(),1))\n"
   ]
  },
  {
   "cell_type": "code",
   "execution_count": 102,
   "metadata": {},
   "outputs": [],
   "source": [
    "# review_scores_communication\n",
    "#rellenamos los valores nulos con el promedio de los datos\n",
    "#usando mean() para obtener el promedio\n",
    "data2[\"review_scores_communication\"]=data2[\"review_scores_communication\"].fillna(round(data[\"review_scores_communication\"].mean(),1))"
   ]
  },
  {
   "cell_type": "code",
   "execution_count": 103,
   "metadata": {},
   "outputs": [],
   "source": [
    "#review_scores_location\n",
    "#rellenamos los valores nulos con el promedio de los datos\n",
    "#usando mean() para obtener el promedio\n",
    "data2[\"review_scores_location\"]=data2[\"review_scores_location\"].fillna(round(data[\"review_scores_location\"].mean(),1))"
   ]
  },
  {
   "cell_type": "code",
   "execution_count": 104,
   "metadata": {},
   "outputs": [],
   "source": [
    "#review_scores_value\n",
    "#rellenamos los valores nulos con el promedio de los datos\n",
    "data2[\"review_scores_value\"]=data2[\"review_scores_value\"].fillna(round(data[\"review_scores_value\"].mean(),1))\n"
   ]
  },
  {
   "cell_type": "code",
   "execution_count": 105,
   "metadata": {},
   "outputs": [],
   "source": [
    "#reviews_per_month\n",
    "#rellenamos los valores nulos con el promedio de los datos\n",
    "\n",
    "data2[\"reviews_per_month\"]=data2[\"reviews_per_month\"].fillna(round(data[\"reviews_per_month\"].mean(),1))\n"
   ]
  },
  {
   "cell_type": "code",
   "execution_count": 106,
   "metadata": {},
   "outputs": [
    {
     "data": {
      "text/plain": [
       "    last_scraped                  0\n",
       "source                            0\n",
       "name                              0\n",
       "description                       0\n",
       "neighborhood_overview             0\n",
       "host_name                         0\n",
       "host_since                        0\n",
       "host_location                     0\n",
       "host_about                        0\n",
       "host_response_time                0\n",
       "host_response_rate                0\n",
       "host_acceptance_rate              0\n",
       "host_is_superhost                 0\n",
       "host_listings_count               0\n",
       "host_total_listings_count         0\n",
       "host_verifications                0\n",
       "host_has_profile_pic              0\n",
       "host_identity_verified            0\n",
       "neighbourhood_cleansed            0\n",
       "property_type                     0\n",
       "room_type                         0\n",
       "accommodates                      0\n",
       "bathrooms                         0\n",
       "bedrooms                          0\n",
       "beds                              0\n",
       "amenities                         0\n",
       "price                             0\n",
       "minimum_nights                    0\n",
       "maximum_nights                    0\n",
       "minimum_nights_avg_ntm            0\n",
       "maximum_nights_avg_ntm            0\n",
       "has_availability                  0\n",
       "availability_30                   0\n",
       "availability_60                   0\n",
       "availability_90                   0\n",
       "availability_365                  0\n",
       "number_of_reviews_ltm             0\n",
       "number_of_reviews_l30d            0\n",
       "first_review                      0\n",
       "last_review                       0\n",
       "review_scores_rating              0\n",
       "review_scores_accuracy            0\n",
       "review_scores_cleanliness         0\n",
       "review_scores_checkin             0\n",
       "review_scores_communication       0\n",
       "review_scores_location            0\n",
       "review_scores_value               0\n",
       "instant_bookable                  0\n",
       "calculated_host_listings_count    0\n",
       "reviews_per_month                 0\n",
       "dtype: int64"
      ]
     },
     "execution_count": 106,
     "metadata": {},
     "output_type": "execute_result"
    }
   ],
   "source": [
    "valores_nulos=data2.isnull().sum()\n",
    "valores_nulos"
   ]
  },
  {
   "cell_type": "code",
   "execution_count": 107,
   "metadata": {},
   "outputs": [
    {
     "data": {
      "text/plain": [
       "np.int64(0)"
      ]
     },
     "execution_count": 107,
     "metadata": {},
     "output_type": "execute_result"
    }
   ],
   "source": [
    "valores_nulos=data2.isnull().sum().sum()\n",
    "valores_nulos"
   ]
  },
  {
   "cell_type": "code",
   "execution_count": 110,
   "metadata": {},
   "outputs": [],
   "source": [
    "data2.to_csv('Bozeman_United_states_sin_nulos.csv')"
   ]
  }
 ],
 "metadata": {
  "kernelspec": {
   "display_name": "Python 3",
   "language": "python",
   "name": "python3"
  },
  "language_info": {
   "codemirror_mode": {
    "name": "ipython",
    "version": 3
   },
   "file_extension": ".py",
   "mimetype": "text/x-python",
   "name": "python",
   "nbconvert_exporter": "python",
   "pygments_lexer": "ipython3",
   "version": "3.13.1"
  }
 },
 "nbformat": 4,
 "nbformat_minor": 2
}
