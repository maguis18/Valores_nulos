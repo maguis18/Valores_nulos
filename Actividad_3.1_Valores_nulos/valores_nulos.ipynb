{
 "cells": [
  {
   "cell_type": "code",
   "execution_count": 11,
   "metadata": {},
   "outputs": [],
   "source": [
    "import pandas as pd\n",
    "import numpy as np\n",
    "import matplotlib.pyplot as plt\n",
    "import seaborn as sns "
   ]
  },
  {
   "cell_type": "code",
   "execution_count": 12,
   "metadata": {},
   "outputs": [
    {
     "data": {
      "text/html": [
       "<div>\n",
       "<style scoped>\n",
       "    .dataframe tbody tr th:only-of-type {\n",
       "        vertical-align: middle;\n",
       "    }\n",
       "\n",
       "    .dataframe tbody tr th {\n",
       "        vertical-align: top;\n",
       "    }\n",
       "\n",
       "    .dataframe thead th {\n",
       "        text-align: right;\n",
       "    }\n",
       "</style>\n",
       "<table border=\"1\" class=\"dataframe\">\n",
       "  <thead>\n",
       "    <tr style=\"text-align: right;\">\n",
       "      <th></th>\n",
       "      <th>indice_tiempo</th>\n",
       "      <th>ventas_precios_corrientes</th>\n",
       "      <th>ventas_precios_constantes</th>\n",
       "      <th>ventas_totales_canal_venta</th>\n",
       "      <th>salon_ventas</th>\n",
       "      <th>canales_on_line</th>\n",
       "      <th>ventas_totales_medio_pago</th>\n",
       "      <th>efectivo</th>\n",
       "      <th>tarjetas_debito</th>\n",
       "      <th>tarjetas_credito</th>\n",
       "      <th>...</th>\n",
       "      <th>almacen</th>\n",
       "      <th>panaderia</th>\n",
       "      <th>lacteos</th>\n",
       "      <th>carnes</th>\n",
       "      <th>verduleria_fruteria</th>\n",
       "      <th>alimentos_preparados_rotiseria</th>\n",
       "      <th>articulos_limpieza_perfumeria</th>\n",
       "      <th>indumentaria_calzado_textiles_hogar</th>\n",
       "      <th>electronicos_articulos_hogar</th>\n",
       "      <th>otros</th>\n",
       "    </tr>\n",
       "  </thead>\n",
       "  <tbody>\n",
       "    <tr>\n",
       "      <th>0</th>\n",
       "      <td>01/01/2017</td>\n",
       "      <td>27858.9</td>\n",
       "      <td>27477.3</td>\n",
       "      <td>27858872.08</td>\n",
       "      <td>27591730.13</td>\n",
       "      <td>267141.956</td>\n",
       "      <td>27858872.08</td>\n",
       "      <td>1.023010e+07</td>\n",
       "      <td>6864575.384</td>\n",
       "      <td>9047205.493</td>\n",
       "      <td>...</td>\n",
       "      <td>6705475.318</td>\n",
       "      <td>9.459063e+05</td>\n",
       "      <td>2880656.169</td>\n",
       "      <td>2606192.942</td>\n",
       "      <td>1.050314e+06</td>\n",
       "      <td>340777.3882</td>\n",
       "      <td>4397543.671</td>\n",
       "      <td>772371.8476</td>\n",
       "      <td>1838507.096</td>\n",
       "      <td>2806660.309</td>\n",
       "    </tr>\n",
       "    <tr>\n",
       "      <th>1</th>\n",
       "      <td>01/02/2017</td>\n",
       "      <td>25994.2</td>\n",
       "      <td>25223.4</td>\n",
       "      <td>25994200.17</td>\n",
       "      <td>25749179.40</td>\n",
       "      <td>245020.769</td>\n",
       "      <td>25994200.17</td>\n",
       "      <td>9.719067e+06</td>\n",
       "      <td>6438494.011</td>\n",
       "      <td>8309150.301</td>\n",
       "      <td>...</td>\n",
       "      <td>6576624.803</td>\n",
       "      <td>9.256186e+05</td>\n",
       "      <td>2855639.900</td>\n",
       "      <td>2600083.591</td>\n",
       "      <td>1.026167e+06</td>\n",
       "      <td>328288.6951</td>\n",
       "      <td>4053283.771</td>\n",
       "      <td>672290.5165</td>\n",
       "      <td>1257661.903</td>\n",
       "      <td>2354084.901</td>\n",
       "    </tr>\n",
       "    <tr>\n",
       "      <th>2</th>\n",
       "      <td>01/03/2017</td>\n",
       "      <td>27780.0</td>\n",
       "      <td>26334.3</td>\n",
       "      <td>27780006.52</td>\n",
       "      <td>27472228.72</td>\n",
       "      <td>307777.804</td>\n",
       "      <td>27780006.52</td>\n",
       "      <td>1.024444e+07</td>\n",
       "      <td>6908522.962</td>\n",
       "      <td>8845010.494</td>\n",
       "      <td>...</td>\n",
       "      <td>7437264.174</td>\n",
       "      <td>1.016148e+06</td>\n",
       "      <td>3188259.169</td>\n",
       "      <td>2824976.726</td>\n",
       "      <td>1.075526e+06</td>\n",
       "      <td>353335.1548</td>\n",
       "      <td>4354197.611</td>\n",
       "      <td>667696.6653</td>\n",
       "      <td>1305674.917</td>\n",
       "      <td>2266189.277</td>\n",
       "    </tr>\n",
       "    <tr>\n",
       "      <th>3</th>\n",
       "      <td>01/04/2017</td>\n",
       "      <td>29134.3</td>\n",
       "      <td>27045.9</td>\n",
       "      <td>29134272.22</td>\n",
       "      <td>28827479.49</td>\n",
       "      <td>306792.733</td>\n",
       "      <td>29134272.22</td>\n",
       "      <td>1.031263e+07</td>\n",
       "      <td>7454251.800</td>\n",
       "      <td>9458166.682</td>\n",
       "      <td>...</td>\n",
       "      <td>8211244.093</td>\n",
       "      <td>1.132396e+06</td>\n",
       "      <td>3257140.159</td>\n",
       "      <td>3006158.760</td>\n",
       "      <td>1.037213e+06</td>\n",
       "      <td>359694.4537</td>\n",
       "      <td>4355706.646</td>\n",
       "      <td>838948.2458</td>\n",
       "      <td>1535726.345</td>\n",
       "      <td>2146755.887</td>\n",
       "    </tr>\n",
       "    <tr>\n",
       "      <th>4</th>\n",
       "      <td>01/05/2017</td>\n",
       "      <td>27969.0</td>\n",
       "      <td>25631.9</td>\n",
       "      <td>27969004.68</td>\n",
       "      <td>27569311.41</td>\n",
       "      <td>399693.262</td>\n",
       "      <td>27969004.68</td>\n",
       "      <td>1.014761e+07</td>\n",
       "      <td>6735747.319</td>\n",
       "      <td>9220929.862</td>\n",
       "      <td>...</td>\n",
       "      <td>7651058.084</td>\n",
       "      <td>1.033082e+06</td>\n",
       "      <td>3232635.767</td>\n",
       "      <td>2799142.123</td>\n",
       "      <td>9.826512e+05</td>\n",
       "      <td>336568.0085</td>\n",
       "      <td>4206101.605</td>\n",
       "      <td>915895.1498</td>\n",
       "      <td>1824462.036</td>\n",
       "      <td>2117971.483</td>\n",
       "    </tr>\n",
       "  </tbody>\n",
       "</table>\n",
       "<p>5 rows × 24 columns</p>\n",
       "</div>"
      ],
      "text/plain": [
       "  indice_tiempo  ventas_precios_corrientes  ventas_precios_constantes  \\\n",
       "0    01/01/2017                    27858.9                    27477.3   \n",
       "1    01/02/2017                    25994.2                    25223.4   \n",
       "2    01/03/2017                    27780.0                    26334.3   \n",
       "3    01/04/2017                    29134.3                    27045.9   \n",
       "4    01/05/2017                    27969.0                    25631.9   \n",
       "\n",
       "   ventas_totales_canal_venta  salon_ventas  canales_on_line  \\\n",
       "0                 27858872.08   27591730.13       267141.956   \n",
       "1                 25994200.17   25749179.40       245020.769   \n",
       "2                 27780006.52   27472228.72       307777.804   \n",
       "3                 29134272.22   28827479.49       306792.733   \n",
       "4                 27969004.68   27569311.41       399693.262   \n",
       "\n",
       "   ventas_totales_medio_pago      efectivo  tarjetas_debito  tarjetas_credito  \\\n",
       "0                27858872.08  1.023010e+07      6864575.384       9047205.493   \n",
       "1                25994200.17  9.719067e+06      6438494.011       8309150.301   \n",
       "2                27780006.52  1.024444e+07      6908522.962       8845010.494   \n",
       "3                29134272.22  1.031263e+07      7454251.800       9458166.682   \n",
       "4                27969004.68  1.014761e+07      6735747.319       9220929.862   \n",
       "\n",
       "   ...      almacen     panaderia      lacteos       carnes  \\\n",
       "0  ...  6705475.318  9.459063e+05  2880656.169  2606192.942   \n",
       "1  ...  6576624.803  9.256186e+05  2855639.900  2600083.591   \n",
       "2  ...  7437264.174  1.016148e+06  3188259.169  2824976.726   \n",
       "3  ...  8211244.093  1.132396e+06  3257140.159  3006158.760   \n",
       "4  ...  7651058.084  1.033082e+06  3232635.767  2799142.123   \n",
       "\n",
       "   verduleria_fruteria  alimentos_preparados_rotiseria  \\\n",
       "0         1.050314e+06                     340777.3882   \n",
       "1         1.026167e+06                     328288.6951   \n",
       "2         1.075526e+06                     353335.1548   \n",
       "3         1.037213e+06                     359694.4537   \n",
       "4         9.826512e+05                     336568.0085   \n",
       "\n",
       "   articulos_limpieza_perfumeria  indumentaria_calzado_textiles_hogar  \\\n",
       "0                    4397543.671                          772371.8476   \n",
       "1                    4053283.771                          672290.5165   \n",
       "2                    4354197.611                          667696.6653   \n",
       "3                    4355706.646                          838948.2458   \n",
       "4                    4206101.605                          915895.1498   \n",
       "\n",
       "   electronicos_articulos_hogar        otros  \n",
       "0                   1838507.096  2806660.309  \n",
       "1                   1257661.903  2354084.901  \n",
       "2                   1305674.917  2266189.277  \n",
       "3                   1535726.345  2146755.887  \n",
       "4                   1824462.036  2117971.483  \n",
       "\n",
       "[5 rows x 24 columns]"
      ]
     },
     "execution_count": 12,
     "metadata": {},
     "output_type": "execute_result"
    }
   ],
   "source": [
    "data = pd.read_csv('Ventas_totales.csv')\n",
    "data.head(5)"
   ]
  },
  {
   "cell_type": "code",
   "execution_count": 13,
   "metadata": {},
   "outputs": [
    {
     "name": "stdout",
     "output_type": "stream",
     "text": [
      "<class 'pandas.core.frame.DataFrame'>\n",
      "RangeIndex: 65 entries, 0 to 64\n",
      "Data columns (total 24 columns):\n",
      " #   Column                               Non-Null Count  Dtype  \n",
      "---  ------                               --------------  -----  \n",
      " 0   indice_tiempo                        65 non-null     object \n",
      " 1   ventas_precios_corrientes            65 non-null     float64\n",
      " 2   ventas_precios_constantes            65 non-null     float64\n",
      " 3   ventas_totales_canal_venta           65 non-null     float64\n",
      " 4   salon_ventas                         59 non-null     float64\n",
      " 5   canales_on_line                      65 non-null     float64\n",
      " 6   ventas_totales_medio_pago            65 non-null     float64\n",
      " 7   efectivo                             65 non-null     float64\n",
      " 8   tarjetas_debito                      64 non-null     float64\n",
      " 9   tarjetas_credito                     58 non-null     float64\n",
      " 10  otros_medios                         64 non-null     float64\n",
      " 11  ventas_totales_grupo_articulos       65 non-null     float64\n",
      " 12  subtotal_ventas_alimentos_bebidas    55 non-null     float64\n",
      " 13  bebidas                              64 non-null     float64\n",
      " 14  almacen                              63 non-null     float64\n",
      " 15  panaderia                            64 non-null     float64\n",
      " 16  lacteos                              64 non-null     float64\n",
      " 17  carnes                               64 non-null     float64\n",
      " 18  verduleria_fruteria                  64 non-null     float64\n",
      " 19  alimentos_preparados_rotiseria       64 non-null     float64\n",
      " 20  articulos_limpieza_perfumeria        65 non-null     float64\n",
      " 21  indumentaria_calzado_textiles_hogar  63 non-null     float64\n",
      " 22  electronicos_articulos_hogar         62 non-null     float64\n",
      " 23  otros                                61 non-null     float64\n",
      "dtypes: float64(23), object(1)\n",
      "memory usage: 12.3+ KB\n"
     ]
    }
   ],
   "source": [
    "data.info()"
   ]
  },
  {
   "cell_type": "code",
   "execution_count": 14,
   "metadata": {},
   "outputs": [
    {
     "data": {
      "text/plain": [
       "indice_tiempo                           0\n",
       "ventas_precios_corrientes               0\n",
       "ventas_precios_constantes               0\n",
       "ventas_totales_canal_venta              0\n",
       "salon_ventas                            6\n",
       "canales_on_line                         0\n",
       "ventas_totales_medio_pago               0\n",
       "efectivo                                0\n",
       "tarjetas_debito                         1\n",
       "tarjetas_credito                        7\n",
       "otros_medios                            1\n",
       "ventas_totales_grupo_articulos          0\n",
       "subtotal_ventas_alimentos_bebidas      10\n",
       "bebidas                                 1\n",
       "almacen                                 2\n",
       "panaderia                               1\n",
       "lacteos                                 1\n",
       "carnes                                  1\n",
       "verduleria_fruteria                     1\n",
       "alimentos_preparados_rotiseria          1\n",
       "articulos_limpieza_perfumeria           0\n",
       "indumentaria_calzado_textiles_hogar     2\n",
       "electronicos_articulos_hogar            3\n",
       "otros                                   4\n",
       "dtype: int64"
      ]
     },
     "execution_count": 14,
     "metadata": {},
     "output_type": "execute_result"
    }
   ],
   "source": [
    "valores_nulos=data.isnull().sum()\n",
    "valores_nulos"
   ]
  },
  {
   "cell_type": "code",
   "execution_count": 15,
   "metadata": {},
   "outputs": [
    {
     "data": {
      "text/plain": [
       "np.int64(42)"
      ]
     },
     "execution_count": 15,
     "metadata": {},
     "output_type": "execute_result"
    }
   ],
   "source": [
    "valores_nulos=data.isnull().sum().sum()\n",
    "valores_nulos"
   ]
  },
  {
   "cell_type": "code",
   "execution_count": 16,
   "metadata": {},
   "outputs": [],
   "source": [
    "data1=data.copy()"
   ]
  },
  {
   "cell_type": "code",
   "execution_count": 17,
   "metadata": {},
   "outputs": [],
   "source": [
    "#Usamos la media para reemplazar los valores nulos\n",
    "#preferimos usar la media para no alterar la distribucion de los datos\n",
    "data1[\"salon_ventas\"]=data1[\"salon_ventas\"].fillna(round(data[\"salon_ventas\"].mean(),1))\n"
   ]
  },
  {
   "cell_type": "code",
   "execution_count": 18,
   "metadata": {},
   "outputs": [
    {
     "data": {
      "text/plain": [
       "indice_tiempo                           0\n",
       "ventas_precios_corrientes               0\n",
       "ventas_precios_constantes               0\n",
       "ventas_totales_canal_venta              0\n",
       "salon_ventas                            0\n",
       "canales_on_line                         0\n",
       "ventas_totales_medio_pago               0\n",
       "efectivo                                0\n",
       "tarjetas_debito                         1\n",
       "tarjetas_credito                        7\n",
       "otros_medios                            1\n",
       "ventas_totales_grupo_articulos          0\n",
       "subtotal_ventas_alimentos_bebidas      10\n",
       "bebidas                                 1\n",
       "almacen                                 2\n",
       "panaderia                               1\n",
       "lacteos                                 1\n",
       "carnes                                  1\n",
       "verduleria_fruteria                     1\n",
       "alimentos_preparados_rotiseria          1\n",
       "articulos_limpieza_perfumeria           0\n",
       "indumentaria_calzado_textiles_hogar     2\n",
       "electronicos_articulos_hogar            3\n",
       "otros                                   4\n",
       "dtype: int64"
      ]
     },
     "execution_count": 18,
     "metadata": {},
     "output_type": "execute_result"
    }
   ],
   "source": [
    "valores_nulos=data1.isnull().sum()\n",
    "valores_nulos"
   ]
  },
  {
   "cell_type": "code",
   "execution_count": 19,
   "metadata": {},
   "outputs": [],
   "source": [
    "#ya que en estos datos no hay una relacion entre las variables, no podemos usar un valor\n",
    "#en especifico para remplazar los valores nulos, por lo que usamos la media\n",
    "data1[\"tarjetas_debito\"]=data1[\"tarjetas_debito\"].fillna(round(data[\"tarjetas_debito\"].mean(),1))\n"
   ]
  },
  {
   "cell_type": "code",
   "execution_count": 20,
   "metadata": {},
   "outputs": [],
   "source": [
    "#al igual que con las tarjetas de debito \n",
    "#usamos la media para reemplazar los valores nulos\n",
    "data1[\"tarjetas_credito\"]=data1[\"tarjetas_credito\"].fillna(round(data[\"tarjetas_credito\"].mean(),1))"
   ]
  },
  {
   "cell_type": "code",
   "execution_count": 21,
   "metadata": {},
   "outputs": [],
   "source": [
    "#usamos la media o el promedio para reemplazar los valores nulos\n",
    "#ya que asi evitamos tener datos tan dispersos\n",
    "data1[\"otros_medios\"]=data1[\"otros_medios\"].fillna(round(data[\"otros_medios\"].median(),1))"
   ]
  },
  {
   "cell_type": "code",
   "execution_count": 22,
   "metadata": {},
   "outputs": [],
   "source": [
    "#usamos la media para reemplazar los valores nulos\n",
    "\n",
    "data1[\"subtotal_ventas_alimentos_bebidas\"]=data1[\"subtotal_ventas_alimentos_bebidas\"].fillna(round(data[\"subtotal_ventas_alimentos_bebidas\"].mean(),1))"
   ]
  },
  {
   "cell_type": "markdown",
   "metadata": {},
   "source": [
    "En los siguientes datos decidimos usar bfiil y ffill, ya que solo eran de 1 a 2 valores nulos, por lo que no causaria problema usar el avlor anterior o despues , y de esta manera, ay que etsan ordenados por fechas, nos ayuda a mantener una relacion entre las ventas de estos tipos"
   ]
  },
  {
   "cell_type": "code",
   "execution_count": 25,
   "metadata": {},
   "outputs": [
    {
     "name": "stderr",
     "output_type": "stream",
     "text": [
      "C:\\Users\\jesus\\AppData\\Local\\Temp\\ipykernel_23064\\2253871510.py:1: FutureWarning: Series.fillna with 'method' is deprecated and will raise in a future version. Use obj.ffill() or obj.bfill() instead.\n",
      "  data1[\"almacen\"]=data1[\"almacen\"].fillna(method=\"bfill\")\n"
     ]
    }
   ],
   "source": [
    "#usamos bfill para reemplazar los valores nulos\n",
    "#se remplaza el avlor nulo con el valor siguiente\n",
    "data1[\"almacen\"]=data1[\"almacen\"].fillna(method=\"bfill\")"
   ]
  },
  {
   "cell_type": "code",
   "execution_count": 26,
   "metadata": {},
   "outputs": [
    {
     "name": "stderr",
     "output_type": "stream",
     "text": [
      "C:\\Users\\jesus\\AppData\\Local\\Temp\\ipykernel_23064\\2465417148.py:1: FutureWarning: Series.fillna with 'method' is deprecated and will raise in a future version. Use obj.ffill() or obj.bfill() instead.\n",
      "  data1[\"panaderia\"]=data1[\"panaderia\"].fillna(method=\"ffill\")\n"
     ]
    }
   ],
   "source": [
    "#usamos ffill para reemplazar los valores nulos\n",
    "#se remplaza el valor nulo con el valor anterior\n",
    "data1[\"panaderia\"]=data1[\"panaderia\"].fillna(method=\"ffill\")\n"
   ]
  },
  {
   "cell_type": "code",
   "execution_count": 28,
   "metadata": {},
   "outputs": [
    {
     "name": "stderr",
     "output_type": "stream",
     "text": [
      "C:\\Users\\jesus\\AppData\\Local\\Temp\\ipykernel_23064\\1407157714.py:1: FutureWarning: Series.fillna with 'method' is deprecated and will raise in a future version. Use obj.ffill() or obj.bfill() instead.\n",
      "  data1[\"lacteos\"]=data1[\"lacteos\"].fillna(method=\"bfill\")\n"
     ]
    }
   ],
   "source": [
    "#usamos bfill para reemplazar los valores nulos\n",
    "#se remplaza el valor nulo con el valor siguiente\n",
    "data1[\"lacteos\"]=data1[\"lacteos\"].fillna(method=\"bfill\")"
   ]
  },
  {
   "cell_type": "code",
   "execution_count": 29,
   "metadata": {},
   "outputs": [
    {
     "name": "stderr",
     "output_type": "stream",
     "text": [
      "C:\\Users\\jesus\\AppData\\Local\\Temp\\ipykernel_23064\\1655373741.py:1: FutureWarning: Series.fillna with 'method' is deprecated and will raise in a future version. Use obj.ffill() or obj.bfill() instead.\n",
      "  data1[\"carnes\"]=data1[\"carnes\"].fillna(method=\"ffill\")\n"
     ]
    }
   ],
   "source": [
    "#usamos ffill para reemplazar los valores nulos\n",
    "#se remplaza el valor nulo con el valor anterior\n",
    "data1[\"carnes\"]=data1[\"carnes\"].fillna(method=\"ffill\")"
   ]
  },
  {
   "cell_type": "code",
   "execution_count": 30,
   "metadata": {},
   "outputs": [
    {
     "name": "stderr",
     "output_type": "stream",
     "text": [
      "C:\\Users\\jesus\\AppData\\Local\\Temp\\ipykernel_23064\\616397495.py:1: FutureWarning: Series.fillna with 'method' is deprecated and will raise in a future version. Use obj.ffill() or obj.bfill() instead.\n",
      "  data1[\"verduleria_fruteria\"]=data1[\"verduleria_fruteria\"].fillna(method=\"bfill\")\n"
     ]
    }
   ],
   "source": [
    "#usamos bfill para reemplazar los valores nulos\n",
    "#se remplaza el valor nulo con el valor siguiente\n",
    "data1[\"verduleria_fruteria\"]=data1[\"verduleria_fruteria\"].fillna(method=\"bfill\")\n"
   ]
  },
  {
   "cell_type": "code",
   "execution_count": 38,
   "metadata": {},
   "outputs": [
    {
     "name": "stderr",
     "output_type": "stream",
     "text": [
      "C:\\Users\\jesus\\AppData\\Local\\Temp\\ipykernel_23064\\1644840749.py:1: FutureWarning: Series.fillna with 'method' is deprecated and will raise in a future version. Use obj.ffill() or obj.bfill() instead.\n",
      "  data1[\"alimentos_preparados_rotiseria\"]=data1[\"alimentos_preparados_rotiseria\"].fillna(method=\"ffill\")\n"
     ]
    }
   ],
   "source": [
    "#usamos ffill para reemplazar los valores nulos\n",
    "#se remplaza el valor nulo con el valor anterior\n",
    "data1[\"alimentos_preparados_rotiseria\"]=data1[\"alimentos_preparados_rotiseria\"].fillna(method=\"ffill\")\n"
   ]
  },
  {
   "cell_type": "code",
   "execution_count": 42,
   "metadata": {},
   "outputs": [
    {
     "name": "stderr",
     "output_type": "stream",
     "text": [
      "C:\\Users\\jesus\\AppData\\Local\\Temp\\ipykernel_23064\\2491052537.py:1: FutureWarning: Series.fillna with 'method' is deprecated and will raise in a future version. Use obj.ffill() or obj.bfill() instead.\n",
      "  data1[\"indumentaria_calzado_textiles_hogar\"]=data1[\"indumentaria_calzado_textiles_hogar\"].fillna(method=\"ffill\")\n"
     ]
    }
   ],
   "source": [
    "\n",
    "#usamos bfill para reemplazar los valores nulos\n",
    "#se remplaza el valor nulo con el valor siguiente\n",
    "data1[\"indumentaria_calzado_textiles_hogar\"]=data1[\"indumentaria_calzado_textiles_hogar\"].fillna(method=\"ffill\")\n",
    "\n"
   ]
  },
  {
   "cell_type": "code",
   "execution_count": 33,
   "metadata": {},
   "outputs": [],
   "source": [
    "#usamos ffill para reemplazar los valores nulos\n",
    "#se remplaza el valor nulo con el valor anterior\n",
    "data1[\"electronicos_articulos_hogar\"]=data1[\"electronicos_articulos_hogar\"].fillna(round(data[\"electronicos_articulos_hogar\"].median(),1))"
   ]
  },
  {
   "cell_type": "code",
   "execution_count": 35,
   "metadata": {},
   "outputs": [],
   "source": [
    "#usamos la mediana para reemplazar los valores nulos\n",
    "#ya que no habia una dispercion tan grande en los datos \n",
    "data1[\"otros\"]=data1[\"otros\"].fillna(round(data[\"otros\"].median(),1))"
   ]
  },
  {
   "cell_type": "code",
   "execution_count": 40,
   "metadata": {},
   "outputs": [
    {
     "data": {
      "text/plain": [
       "np.int64(0)"
      ]
     },
     "execution_count": 40,
     "metadata": {},
     "output_type": "execute_result"
    }
   ],
   "source": [
    "valores_nulos=data1.isnull().sum().sum()\n",
    "valores_nulos"
   ]
  },
  {
   "cell_type": "code",
   "execution_count": 43,
   "metadata": {},
   "outputs": [],
   "source": [
    "data1.to_csv('Ventas_totales_sin_nulos.csv')"
   ]
  }
 ],
 "metadata": {
  "kernelspec": {
   "display_name": "Python 3",
   "language": "python",
   "name": "python3"
  },
  "language_info": {
   "codemirror_mode": {
    "name": "ipython",
    "version": 3
   },
   "file_extension": ".py",
   "mimetype": "text/x-python",
   "name": "python",
   "nbconvert_exporter": "python",
   "pygments_lexer": "ipython3",
   "version": "3.13.1"
  }
 },
 "nbformat": 4,
 "nbformat_minor": 2
}
